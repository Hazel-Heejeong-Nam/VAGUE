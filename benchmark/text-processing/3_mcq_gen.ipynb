{
 "cells": [
  {
   "cell_type": "code",
   "execution_count": 3,
   "metadata": {},
   "outputs": [],
   "source": [
    "import json\n",
    "import os\n",
    "from tqdm import tqdm\n",
    "\n",
    "from openai import OpenAI\n",
    "from mcq_prompts import *\n",
    "\n",
    "#####################################################\n",
    "FILE_PATH = \"../files/prompt_direct+indirect_0-100.json\" # .json\n",
    "OUT_DIR = \"../files\" # directory to output\n",
    "ANNOT_IMG_DIR = \"../../data/annotated_images\"\n",
    "#####################################################\n",
    "\n",
    "os.makedirs(OUT_DIR, exist_ok=True)"
   ]
  },
  {
   "cell_type": "code",
   "execution_count": 5,
   "metadata": {},
   "outputs": [],
   "source": [
    "file = open(\"../../api.txt\", \"r\")\n",
    "content = file.read()\n",
    "client = OpenAI(\n",
    "    api_key=content\n",
    ")\n",
    "with open(FILE_PATH, 'r') as f:\n",
    "    data = json.load(f)"
   ]
  },
  {
   "cell_type": "code",
   "execution_count": 6,
   "metadata": {},
   "outputs": [
    {
     "name": "stdout",
     "output_type": "stream",
     "text": [
      "97\n"
     ]
    },
    {
     "name": "stderr",
     "output_type": "stream",
     "text": [
      "  0%|          | 0/97 [00:00<?, ?it/s]"
     ]
    },
    {
     "name": "stderr",
     "output_type": "stream",
     "text": [
      "100%|██████████| 97/97 [01:33<00:00,  1.03it/s]\n",
      "100%|██████████| 97/97 [13:00<00:00,  8.05s/it]\n"
     ]
    }
   ],
   "source": [
    "import random\n",
    "random.seed(0)\n",
    "num = len(data)\n",
    "print(num)\n",
    "# 1. generate answer\n",
    "for idx, d in enumerate(tqdm(data)):\n",
    "    p = d['solution'][1:-1].split(',')[0]\n",
    "    solution_action = d['solution'].split(',')[1][1:]\n",
    "    solution_entity = d['solution'][1:-1].split(',')[-1][1:]\n",
    "    direct = d['prompt']\n",
    "    indirect = d['indirect']\n",
    "    answer = gen_answer(client, solution_action, solution_entity, direct, indirect,p)\n",
    "    data[idx]['correct']  = answer\n",
    "    \n",
    "# 2. generate incorrect choices\n",
    "for idx, d in enumerate(tqdm(data)):\n",
    "    \n",
    "    # info\n",
    "    image_name = d['name'][0]\n",
    "    entities = d['entities']\n",
    "    p = d['solution'][1:-1].split(',')[0]\n",
    "    solution_action = d['solution'].split(',')[1][1:]\n",
    "    solution_entity = d['solution'][1:-1].split(',')[-1][1:]\n",
    "    direct = d['prompt']\n",
    "    indirect = d['indirect']\n",
    "    answer = d['correct']\n",
    "    caption = d['caption']\n",
    "    \n",
    "    r1, r2, r3 = random.sample(range(0, num), 3)\n",
    "    icls  = [data[r1]['correct'], data[r2]['correct'], data[r3]['correct']]\n",
    "    choice_list = ['A', 'B', 'C', 'D', 'E']\n",
    "    random.shuffle(choice_list)\n",
    "\n",
    "    if image_name:\n",
    "        annotated_image_name = image_name + \"_annot.jpg\"\n",
    "        annotated_image_path = os.path.join(ANNOT_IMG_DIR, annotated_image_name)\n",
    "        if os.path.exists(annotated_image_path):\n",
    "            encoded_image = encode_image(annotated_image_path)\n",
    "            mcq_wrong_entity = gen_wrong_entity(client, encoded_image, indirect, answer)\n",
    "        else:\n",
    "            mcq_wrong_entity = ''\n",
    "            print(f'Image not found : {image_name}')\n",
    "    fake_cap = fake_caption(client, direct, indirect ,p)\n",
    "    mcq_fake = gen_fake_answer(client, indirect, icls, fake_cap, answer, p)\n",
    "    sum_indirect = summarize_indirect(client, indirect)\n",
    "    # mcq_surface1 = gen_surface_understanding1(client, caption, sum_indirect, p, direct)\n",
    "    mcq_surface2 = gen_surface_understanding2(client, direct, indirect, caption, p)\n",
    "\n",
    "    data[idx]['incorrect_fake_scene']  = mcq_fake\n",
    "    data[idx]['incorrect_wrong_entity'] = mcq_wrong_entity\n",
    "    # data[idx]['incorrect_surface1'] = mcq_surface1\n",
    "    data[idx]['incorrect_surface'] = mcq_surface2\n",
    "    data[idx]['ordering'] = choice_list\n",
    "    \n",
    "with open(os.path.join(OUT_DIR,'prompt_all_0-100_updated_1027.json'), 'w') as f:\n",
    "    json.dump(data, f, indent=4)\n",
    "    "
   ]
  },
  {
   "cell_type": "code",
   "execution_count": null,
   "metadata": {},
   "outputs": [],
   "source": []
  }
 ],
 "metadata": {
  "kernelspec": {
   "display_name": "py310",
   "language": "python",
   "name": "python3"
  },
  "language_info": {
   "codemirror_mode": {
    "name": "ipython",
    "version": 3
   },
   "file_extension": ".py",
   "mimetype": "text/x-python",
   "name": "python",
   "nbconvert_exporter": "python",
   "pygments_lexer": "ipython3",
   "version": "3.8.18"
  }
 },
 "nbformat": 4,
 "nbformat_minor": 2
}
